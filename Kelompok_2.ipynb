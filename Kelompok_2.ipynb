{
  "nbformat": 4,
  "nbformat_minor": 0,
  "metadata": {
    "colab": {
      "provenance": [],
      "authorship_tag": "ABX9TyNV1Zd13KFfpHunyPAAOVrl",
      "include_colab_link": true
    },
    "kernelspec": {
      "name": "python3",
      "display_name": "Python 3"
    },
    "language_info": {
      "name": "python"
    }
  },
  "cells": [
    {
      "cell_type": "markdown",
      "metadata": {
        "id": "view-in-github",
        "colab_type": "text"
      },
      "source": [
        "<a href=\"https://colab.research.google.com/github/MuhamadOskhar/Statistika-Deskriptif/blob/main/Kelompok_2.ipynb\" target=\"_parent\"><img src=\"https://colab.research.google.com/assets/colab-badge.svg\" alt=\"Open In Colab\"/></a>"
      ]
    },
    {
      "cell_type": "code",
      "execution_count": 23,
      "metadata": {
        "id": "aYqNlnHW-j0m",
        "colab": {
          "base_uri": "https://localhost:8080/",
          "height": 206
        },
        "outputId": "7edc3680-5aa0-4d84-b6b6-36d4a01c8f7e"
      },
      "outputs": [
        {
          "output_type": "execute_result",
          "data": {
            "text/plain": [
              "   tanjung  ewogs  deviasi_tanjung  deviasi_ewogs  variance_tanjung  \\\n",
              "0       22     25            -42.3          -19.2           1789.29   \n",
              "1       59     75             -5.3           30.8             28.09   \n",
              "2       15     60            -49.3           15.8           2430.49   \n",
              "3       91     91             26.7           46.8            712.89   \n",
              "4       44     10            -20.3          -34.2            412.09   \n",
              "\n",
              "   variance_ewogs  \n",
              "0          368.64  \n",
              "1          948.64  \n",
              "2          249.64  \n",
              "3         2190.24  \n",
              "4         1169.64  "
            ],
            "text/html": [
              "\n",
              "  <div id=\"df-cabbdb8c-6cfa-4ade-b545-a3763bd2ed68\">\n",
              "    <div class=\"colab-df-container\">\n",
              "      <div>\n",
              "<style scoped>\n",
              "    .dataframe tbody tr th:only-of-type {\n",
              "        vertical-align: middle;\n",
              "    }\n",
              "\n",
              "    .dataframe tbody tr th {\n",
              "        vertical-align: top;\n",
              "    }\n",
              "\n",
              "    .dataframe thead th {\n",
              "        text-align: right;\n",
              "    }\n",
              "</style>\n",
              "<table border=\"1\" class=\"dataframe\">\n",
              "  <thead>\n",
              "    <tr style=\"text-align: right;\">\n",
              "      <th></th>\n",
              "      <th>tanjung</th>\n",
              "      <th>ewogs</th>\n",
              "      <th>deviasi_tanjung</th>\n",
              "      <th>deviasi_ewogs</th>\n",
              "      <th>variance_tanjung</th>\n",
              "      <th>variance_ewogs</th>\n",
              "    </tr>\n",
              "  </thead>\n",
              "  <tbody>\n",
              "    <tr>\n",
              "      <th>0</th>\n",
              "      <td>22</td>\n",
              "      <td>25</td>\n",
              "      <td>-42.3</td>\n",
              "      <td>-19.2</td>\n",
              "      <td>1789.29</td>\n",
              "      <td>368.64</td>\n",
              "    </tr>\n",
              "    <tr>\n",
              "      <th>1</th>\n",
              "      <td>59</td>\n",
              "      <td>75</td>\n",
              "      <td>-5.3</td>\n",
              "      <td>30.8</td>\n",
              "      <td>28.09</td>\n",
              "      <td>948.64</td>\n",
              "    </tr>\n",
              "    <tr>\n",
              "      <th>2</th>\n",
              "      <td>15</td>\n",
              "      <td>60</td>\n",
              "      <td>-49.3</td>\n",
              "      <td>15.8</td>\n",
              "      <td>2430.49</td>\n",
              "      <td>249.64</td>\n",
              "    </tr>\n",
              "    <tr>\n",
              "      <th>3</th>\n",
              "      <td>91</td>\n",
              "      <td>91</td>\n",
              "      <td>26.7</td>\n",
              "      <td>46.8</td>\n",
              "      <td>712.89</td>\n",
              "      <td>2190.24</td>\n",
              "    </tr>\n",
              "    <tr>\n",
              "      <th>4</th>\n",
              "      <td>44</td>\n",
              "      <td>10</td>\n",
              "      <td>-20.3</td>\n",
              "      <td>-34.2</td>\n",
              "      <td>412.09</td>\n",
              "      <td>1169.64</td>\n",
              "    </tr>\n",
              "  </tbody>\n",
              "</table>\n",
              "</div>\n",
              "      <button class=\"colab-df-convert\" onclick=\"convertToInteractive('df-cabbdb8c-6cfa-4ade-b545-a3763bd2ed68')\"\n",
              "              title=\"Convert this dataframe to an interactive table.\"\n",
              "              style=\"display:none;\">\n",
              "        \n",
              "  <svg xmlns=\"http://www.w3.org/2000/svg\" height=\"24px\"viewBox=\"0 0 24 24\"\n",
              "       width=\"24px\">\n",
              "    <path d=\"M0 0h24v24H0V0z\" fill=\"none\"/>\n",
              "    <path d=\"M18.56 5.44l.94 2.06.94-2.06 2.06-.94-2.06-.94-.94-2.06-.94 2.06-2.06.94zm-11 1L8.5 8.5l.94-2.06 2.06-.94-2.06-.94L8.5 2.5l-.94 2.06-2.06.94zm10 10l.94 2.06.94-2.06 2.06-.94-2.06-.94-.94-2.06-.94 2.06-2.06.94z\"/><path d=\"M17.41 7.96l-1.37-1.37c-.4-.4-.92-.59-1.43-.59-.52 0-1.04.2-1.43.59L10.3 9.45l-7.72 7.72c-.78.78-.78 2.05 0 2.83L4 21.41c.39.39.9.59 1.41.59.51 0 1.02-.2 1.41-.59l7.78-7.78 2.81-2.81c.8-.78.8-2.07 0-2.86zM5.41 20L4 18.59l7.72-7.72 1.47 1.35L5.41 20z\"/>\n",
              "  </svg>\n",
              "      </button>\n",
              "      \n",
              "  <style>\n",
              "    .colab-df-container {\n",
              "      display:flex;\n",
              "      flex-wrap:wrap;\n",
              "      gap: 12px;\n",
              "    }\n",
              "\n",
              "    .colab-df-convert {\n",
              "      background-color: #E8F0FE;\n",
              "      border: none;\n",
              "      border-radius: 50%;\n",
              "      cursor: pointer;\n",
              "      display: none;\n",
              "      fill: #1967D2;\n",
              "      height: 32px;\n",
              "      padding: 0 0 0 0;\n",
              "      width: 32px;\n",
              "    }\n",
              "\n",
              "    .colab-df-convert:hover {\n",
              "      background-color: #E2EBFA;\n",
              "      box-shadow: 0px 1px 2px rgba(60, 64, 67, 0.3), 0px 1px 3px 1px rgba(60, 64, 67, 0.15);\n",
              "      fill: #174EA6;\n",
              "    }\n",
              "\n",
              "    [theme=dark] .colab-df-convert {\n",
              "      background-color: #3B4455;\n",
              "      fill: #D2E3FC;\n",
              "    }\n",
              "\n",
              "    [theme=dark] .colab-df-convert:hover {\n",
              "      background-color: #434B5C;\n",
              "      box-shadow: 0px 1px 3px 1px rgba(0, 0, 0, 0.15);\n",
              "      filter: drop-shadow(0px 1px 2px rgba(0, 0, 0, 0.3));\n",
              "      fill: #FFFFFF;\n",
              "    }\n",
              "  </style>\n",
              "\n",
              "      <script>\n",
              "        const buttonEl =\n",
              "          document.querySelector('#df-cabbdb8c-6cfa-4ade-b545-a3763bd2ed68 button.colab-df-convert');\n",
              "        buttonEl.style.display =\n",
              "          google.colab.kernel.accessAllowed ? 'block' : 'none';\n",
              "\n",
              "        async function convertToInteractive(key) {\n",
              "          const element = document.querySelector('#df-cabbdb8c-6cfa-4ade-b545-a3763bd2ed68');\n",
              "          const dataTable =\n",
              "            await google.colab.kernel.invokeFunction('convertToInteractive',\n",
              "                                                     [key], {});\n",
              "          if (!dataTable) return;\n",
              "\n",
              "          const docLinkHtml = 'Like what you see? Visit the ' +\n",
              "            '<a target=\"_blank\" href=https://colab.research.google.com/notebooks/data_table.ipynb>data table notebook</a>'\n",
              "            + ' to learn more about interactive tables.';\n",
              "          element.innerHTML = '';\n",
              "          dataTable['output_type'] = 'display_data';\n",
              "          await google.colab.output.renderOutput(dataTable, element);\n",
              "          const docLink = document.createElement('div');\n",
              "          docLink.innerHTML = docLinkHtml;\n",
              "          element.appendChild(docLink);\n",
              "        }\n",
              "      </script>\n",
              "    </div>\n",
              "  </div>\n",
              "  "
            ]
          },
          "metadata": {},
          "execution_count": 23
        }
      ],
      "source": [
        "# Program statistika deksriptif\n",
        "# {Program ini digunakan untuk menampilkan statistika deskriptif: ukuran pemusatan, penyebaran dan distribusi dari sebuah data}\n",
        "\n",
        "# Deklarasi pustaka\n",
        "import numpy as np\n",
        "import pandas as pd\n",
        "import matplotlib.pyplot as plt, seaborn as sns\n",
        "import random as rd\n",
        "from scipy import stats\n",
        "\n",
        "# Deklarasi variabel\n",
        "data = {\n",
        "    \"tanjung\": [rd.randint(0,100) for i in range(10)],\n",
        "    \"ewogs\": [rd.randint(0,100) for i in range(10)]\n",
        "}\n",
        "tmp = {\n",
        "    \"tanjung\": {},\n",
        "    \"ewogs\": {}\n",
        "}\n",
        "show = pd.DataFrame(data)\n",
        "\n",
        "# Menghitung rata rata\n",
        "tmp[\"tanjung\"][\"mean\"] = show[\"tanjung\"].mean()\n",
        "tmp[\"ewogs\"][\"mean\"] = show[\"ewogs\"].mean()\n",
        "\n",
        "# Menghitung deviasi\n",
        "show[\"deviasi_tanjung\"] = show[\"tanjung\"] - tmp[\"tanjung\"][\"mean\"]\n",
        "show[\"deviasi_ewogs\"] = show[\"ewogs\"] - tmp[\"ewogs\"][\"mean\"]\n",
        "\n",
        "# Menghitung variance\n",
        "show[\"variance_tanjung\"] = show[\"deviasi_tanjung\"]**2\n",
        "show[\"variance_ewogs\"] = show[\"deviasi_ewogs\"]**2\n",
        "\n",
        "# Menampilkan data\n",
        "show.head()"
      ]
    },
    {
      "cell_type": "code",
      "source": [
        "# Menghitung rata rata variance\n",
        "tmp[\"tanjung\"][\"variance\"] = show[\"variance_tanjung\"].mean()\n",
        "tmp[\"ewogs\"][\"variance\"] = show[\"variance_ewogs\"].mean()\n",
        "\n",
        "# Menghitung standar deviasi\n",
        "tmp[\"tanjung\"][\"sd\"] = tmp[\"tanjung\"][\"variance\"]**0.5\n",
        "tmp[\"ewogs\"][\"sd\"] = tmp[\"ewogs\"][\"variance\"]**0.5\n",
        "\n",
        "# Menampilkan isi tmp\n",
        "tmp"
      ],
      "metadata": {
        "colab": {
          "base_uri": "https://localhost:8080/"
        },
        "id": "ZKnGBrZOT2Vt",
        "outputId": "7c244eed-b329-44b4-935c-21362b68f641"
      },
      "execution_count": 34,
      "outputs": [
        {
          "output_type": "execute_result",
          "data": {
            "text/plain": [
              "{'tanjung': {'mean': 64.3,\n",
              "  'variance': 811.4100000000001,\n",
              "  'sd': 28.485259345844124},\n",
              " 'ewogs': {'mean': 44.2,\n",
              "  'variance': 777.3599999999999,\n",
              "  'sd': 27.88117644576713}}"
            ]
          },
          "metadata": {},
          "execution_count": 34
        }
      ]
    },
    {
      "cell_type": "code",
      "source": [
        "# Membuat grafik distribusi normal dari data tanjung\n",
        "sns.kdeplot(\n",
        "    stats.norm(tmp[\"tanjung\"][\"mean\"], tmp[\"tanjung\"][\"sd\"]).rvs(1000),\n",
        "    color=\"red\",\n",
        "    fill=True\n",
        ")\n",
        "\n",
        "# Membuat grafik distribusi normal dari data ewogs\n",
        "sns.kdeplot(\n",
        "    stats.norm(tmp[\"ewogs\"][\"mean\"], tmp[\"ewogs\"][\"sd\"]).rvs(1000),\n",
        "    color=\"green\",\n",
        "    fill=True\n",
        ")"
      ],
      "metadata": {
        "id": "DihSHMdiZnq2",
        "outputId": "7f44ff19-2f93-4f20-ae14-c8741d86af36",
        "colab": {
          "base_uri": "https://localhost:8080/",
          "height": 447
        }
      },
      "execution_count": 33,
      "outputs": [
        {
          "output_type": "execute_result",
          "data": {
            "text/plain": [
              "<Axes: ylabel='Density'>"
            ]
          },
          "metadata": {},
          "execution_count": 33
        },
        {
          "output_type": "display_data",
          "data": {
            "text/plain": [
              "<Figure size 640x480 with 1 Axes>"
            ],
            "image/png": "[encoded data removed]"
          },
          "metadata": {}
        }
      ]
    }
  ]
}