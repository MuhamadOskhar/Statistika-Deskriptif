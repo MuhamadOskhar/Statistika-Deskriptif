{
  "nbformat": 4,
  "nbformat_minor": 0,
  "metadata": {
    "colab": {
      "provenance": [],
      "authorship_tag": "ABX9TyM8fjXckaZ7saj08c0ZZkcq",
      "include_colab_link": true
    },
    "kernelspec": {
      "name": "python3",
      "display_name": "Python 3"
    },
    "language_info": {
      "name": "python"
    }
  },
  "cells": [
    {
      "cell_type": "markdown",
      "metadata": {
        "id": "view-in-github",
        "colab_type": "text"
      },
      "source": [
        "<a href=\"https://colab.research.google.com/github/MuhamadOskhar/Statistika-Deskriptif/blob/main/Kelompok_2.ipynb\" target=\"_parent\"><img src=\"https://colab.research.google.com/assets/colab-badge.svg\" alt=\"Open In Colab\"/></a>"
      ]
    },
    {
      "cell_type": "code",
      "execution_count": null,
      "metadata": {
        "id": "aYqNlnHW-j0m"
      },
      "outputs": [],
      "source": [
        "# Program statistika deksriptif\n",
        "# {Program ini digunakan untuk menampilkan statistika deskriptif: ukuran pemusatan, penyebaran dan distribusi dari sebuah data}\n",
        "\n",
        "# Deklarasi pustaka\n",
        "import numpy as np\n",
        "import pandas as pd\n",
        "import matplotlib.pyplot as plt\n",
        "import random as rd\n",
        "\n",
        "# Deklarasi variabel\n",
        "data = [rd.randint(0,100) for i in range(10)];\n",
        "data = np.array(data);"
      ]
    }
  ]
}